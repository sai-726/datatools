{
  "nbformat": 4,
  "nbformat_minor": 0,
  "metadata": {
    "colab": {
      "provenance": []
    },
    "kernelspec": {
      "name": "python3",
      "display_name": "Python 3"
    },
    "language_info": {
      "name": "python"
    }
  },
  "cells": [
    {
      "cell_type": "code",
      "execution_count": 1,
      "metadata": {
        "colab": {
          "base_uri": "https://localhost:8080/"
        },
        "id": "bFMEnA-wU0e7",
        "outputId": "5f1b0f31-3337-47f5-d8b4-36060d5fef96"
      },
      "outputs": [
        {
          "output_type": "stream",
          "name": "stdout",
          "text": [
            "Collecting cassandra-driver\n",
            "  Downloading cassandra_driver-3.29.2-cp310-cp310-manylinux_2_17_x86_64.manylinux2014_x86_64.whl.metadata (6.2 kB)\n",
            "Collecting geomet<0.3,>=0.1 (from cassandra-driver)\n",
            "  Downloading geomet-0.2.1.post1-py3-none-any.whl.metadata (1.0 kB)\n",
            "Requirement already satisfied: click in /usr/local/lib/python3.10/dist-packages (from geomet<0.3,>=0.1->cassandra-driver) (8.1.7)\n",
            "Requirement already satisfied: six in /usr/local/lib/python3.10/dist-packages (from geomet<0.3,>=0.1->cassandra-driver) (1.16.0)\n",
            "Downloading cassandra_driver-3.29.2-cp310-cp310-manylinux_2_17_x86_64.manylinux2014_x86_64.whl (3.9 MB)\n",
            "\u001b[2K   \u001b[90m━━━━━━━━━━━━━━━━━━━━━━━━━━━━━━━━━━━━━━━━\u001b[0m \u001b[32m3.9/3.9 MB\u001b[0m \u001b[31m28.1 MB/s\u001b[0m eta \u001b[36m0:00:00\u001b[0m\n",
            "\u001b[?25hDownloading geomet-0.2.1.post1-py3-none-any.whl (18 kB)\n",
            "Installing collected packages: geomet, cassandra-driver\n",
            "Successfully installed cassandra-driver-3.29.2 geomet-0.2.1.post1\n"
          ]
        }
      ],
      "source": [
        "pip install cassandra-driver"
      ]
    },
    {
      "cell_type": "code",
      "source": [
        "!python -c 'import cassandra; print (cassandra.__version__)'"
      ],
      "metadata": {
        "colab": {
          "base_uri": "https://localhost:8080/"
        },
        "id": "dF6YCeqEVGTo",
        "outputId": "e9d2d483-9718-47bf-8ba8-eceadbfa1c5d"
      },
      "execution_count": 3,
      "outputs": [
        {
          "output_type": "stream",
          "name": "stdout",
          "text": [
            "3.29.2\n"
          ]
        }
      ]
    },
    {
      "cell_type": "code",
      "source": [],
      "metadata": {
        "id": "H2GcGQHCYmdV"
      },
      "execution_count": null,
      "outputs": []
    },
    {
      "cell_type": "code",
      "source": [
        "from cassandra.cluster import Cluster\n",
        "from cassandra.auth import PlainTextAuthProvider\n",
        "\n",
        "SECURE_CONNECT_BUNDLE = \"/content/sample_data/secure-connect-datatool.zip\"\n",
        "\n",
        "# Connect to Cassandra DB\n",
        "auth_provider = PlainTextAuthProvider(\n",
        "    \"cHMRKiGoXLasQfRoihhWYrpa\",\n",
        "    \"wEKI5SWC+hynotUOoFp4aK872SDtEA+mXGq6SdZ46ss3sWEnrU0f+GxJpsZTY8NDPAihIWXx.w3UG+K9YNYfSajogARadEfa8rA+SkSDASIwfACcn3zNsLMh8nNDTsg9\"\n",
        ")\n",
        "cluster = Cluster(cloud={'secure_connect_bundle': SECURE_CONNECT_BUNDLE}, auth_provider=auth_provider)\n",
        "session = cluster.connect()\n",
        "\n",
        "#\n",
        "session.set_keyspace('data')\n",
        "\n",
        " the Bronze table\n",
        "session.execute(\"\"\"\n",
        "CREATE TABLE IF NOT EXISTS bronze_sales (\n",
        "    id UUID PRIMARY KEY,\n",
        "    data TEXT\n",
        ");\n",
        "\"\"\")\n",
        "\n",
        "print(\"Bronze table created successfully!\")"
      ],
      "metadata": {
        "colab": {
          "base_uri": "https://localhost:8080/"
        },
        "id": "jRGgt5nOY2mB",
        "outputId": "583f5467-6928-4780-d3f7-77dd4a602fe1"
      },
      "execution_count": 72,
      "outputs": [
        {
          "output_type": "stream",
          "name": "stderr",
          "text": [
            "WARNING:cassandra.cluster:Downgrading core protocol version from 66 to 65 for ed2ae102-a8ad-483a-b5ec-1dea55c81edd-us-east-2.db.astra.datastax.com:29042:98a2cd7e-fa1b-3950-942e-42af495c4248. To avoid this, it is best practice to explicitly set Cluster(protocol_version) to the version supported by your cluster. http://datastax.github.io/python-driver/api/cassandra/cluster.html#cassandra.cluster.Cluster.protocol_version\n",
            "WARNING:cassandra.cluster:Downgrading core protocol version from 65 to 5 for ed2ae102-a8ad-483a-b5ec-1dea55c81edd-us-east-2.db.astra.datastax.com:29042:98a2cd7e-fa1b-3950-942e-42af495c4248. To avoid this, it is best practice to explicitly set Cluster(protocol_version) to the version supported by your cluster. http://datastax.github.io/python-driver/api/cassandra/cluster.html#cassandra.cluster.Cluster.protocol_version\n",
            "WARNING:cassandra.cluster:Downgrading core protocol version from 5 to 4 for ed2ae102-a8ad-483a-b5ec-1dea55c81edd-us-east-2.db.astra.datastax.com:29042:98a2cd7e-fa1b-3950-942e-42af495c4248. To avoid this, it is best practice to explicitly set Cluster(protocol_version) to the version supported by your cluster. http://datastax.github.io/python-driver/api/cassandra/cluster.html#cassandra.cluster.Cluster.protocol_version\n"
          ]
        },
        {
          "output_type": "stream",
          "name": "stdout",
          "text": [
            "Bronze table created successfully!\n"
          ]
        }
      ]
    },
    {
      "cell_type": "code",
      "source": [],
      "metadata": {
        "id": "YaHSLnnp3Sqg"
      },
      "execution_count": null,
      "outputs": []
    },
    {
      "cell_type": "code",
      "source": [
        "from cassandra.cluster import Cluster\n",
        "from cassandra.auth import PlainTextAuthProvider\n",
        "import json\n",
        "\n",
        "\n",
        "table_name = \"bronze_sales\"\n",
        "\n",
        "columns = [\"id\", \"data\"]\n",
        "\n",
        "select_query = f\"SELECT {', '.join(columns)} FROM {table_name}\"\n",
        "\n",
        "# printing the first 5 records\n",
        "rows = session.execute(select_query)\n",
        "for i, row in enumerate(rows):\n",
        "    if i < 5:\n",
        "        print(row)\n",
        "    else:\n",
        "        pass"
      ],
      "metadata": {
        "colab": {
          "base_uri": "https://localhost:8080/"
        },
        "id": "tVd3_WuBpYn3",
        "outputId": "8c2bde45-5607-44bc-cc81-d06e9c67b8f4"
      },
      "execution_count": 118,
      "outputs": [
        {
          "output_type": "stream",
          "name": "stdout",
          "text": [
            "Row(id=UUID('cd8045ed-8e61-42b0-ba0e-ba9874efd21a'), data='{\"product_name\": \"Phone\", \"price\": 800, \"quantity\": 5}')\n",
            "Row(id=UUID('c4856c78-b4fa-4304-9921-42d37f8dbf35'), data='{\"product_name\": \"Monitor\", \"price\": 300, \"quantity\": 4}')\n",
            "Row(id=UUID('082facaa-a08d-4242-9ca6-7b1da2da6fb6'), data='{\"product_name\": \"Phone\", \"price\": 800, \"quantity\": 5}')\n",
            "Row(id=UUID('0e6d07b3-91fd-4dae-b1b7-19b0476645d2'), data='{\"product_name\": \"Tablet\", \"price\": 600, \"quantity\": 10}')\n",
            "Row(id=UUID('5773dcbb-451d-4f03-9b44-291989447fd5'), data='{\"product_name\": \"Phone\", \"price\": 800, \"quantity\": 5}')\n"
          ]
        }
      ]
    },
    {
      "cell_type": "code",
      "source": [
        "import json\n",
        "import uuid\n",
        "\n",
        "# Query the Bronze table\n",
        "bronze_rows = session.execute(\"SELECT * FROM bronze_sales;\")\n",
        "\n",
        "# Create the Silver table\n",
        "session.execute(\"\"\"\n",
        "CREATE TABLE IF NOT EXISTS silver_sales (\n",
        "    id UUID PRIMARY KEY,\n",
        "    product_name TEXT,\n",
        "    region TEXT,\n",
        "    sales_amount DOUBLE,\n",
        "    date DATE\n",
        ");\n",
        "\"\"\")\n",
        "print(\"Silver table created successfully!\")\n",
        "\n",
        "# Process and clean data from Bronze table, then insert into Silver table\n",
        "for row in bronze_rows:\n",
        "    raw_data = json.loads(row.data)\n",
        "    product_name = raw_data.get('product_name')\n",
        "    region = raw_data.get('region', 'Unknown')\n",
        "    sales_amount = raw_data.get('price', 0.0)\n",
        "    sale_date = raw_data.get('date')\n",
        "\n",
        "    # Inserting the cleaned data into the Silver table\n",
        "    session.execute(\"\"\"\n",
        "    INSERT INTO silver_sales (id, product_name, region, sales_amount, date)\n",
        "    VALUES (%s, %s, %s, %s, %s)\n",
        "    \"\"\", (uuid.uuid4(), product_name, region, sales_amount, sale_date))\n",
        "\n",
        "print(\"Data cleaned and inserted into Silver table successfully!\")\n"
      ],
      "metadata": {
        "colab": {
          "base_uri": "https://localhost:8080/"
        },
        "id": "68pD0cJWzBrR",
        "outputId": "abef6004-508c-4125-824a-c2437e565948"
      },
      "execution_count": 96,
      "outputs": [
        {
          "output_type": "stream",
          "name": "stdout",
          "text": [
            "Silver table created successfully!\n",
            "Data cleaned and inserted into Silver table successfully!\n"
          ]
        }
      ]
    },
    {
      "cell_type": "code",
      "source": [
        "from cassandra.cluster import Cluster\n",
        "from cassandra.auth import PlainTextAuthProvider\n",
        "import pandas as pd\n",
        "\n",
        "SECURE_CONNECT_BUNDLE = \"/content/sample_data/secure-connect-datatool.zip\"\n",
        "auth_provider = PlainTextAuthProvider(\n",
        "    \"cHMRKiGoXLasQfRoihhWYrpa\",\n",
        "    \"wEKI5SWC+hynotUOoFp4aK872SDtEA+mXGq6SdZ46ss3sWEnrU0f+GxJpsZTY8NDPAihIWXx.w3UG+K9YNYfSajogARadEfa8rA+SkSDASIwfACcn3zNsLMh8nNDTsg9\"\n",
        ")\n",
        "cluster = Cluster(cloud={'secure_connect_bundle': SECURE_CONNECT_BUNDLE}, auth_provider=auth_provider)\n",
        "session = cluster.connect()\n",
        "session.set_keyspace('data')\n",
        "rows = session.execute(\"SELECT * FROM silver_sales;\")\n",
        "data = [dict(row._asdict()) for row in rows]\n",
        "#printing output table\n",
        "if data:\n",
        "    df = pd.DataFrame(data)\n",
        "    print(\"Silver Sales Table:\")\n",
        "    print(df)\n",
        "else:\n",
        "    print(\"The Silver Sales table is empty.\")\n"
      ],
      "metadata": {
        "colab": {
          "base_uri": "https://localhost:8080/"
        },
        "id": "2eFCGNLrzTUp",
        "outputId": "705eb985-a4a3-49de-c351-7ea139c3f05b"
      },
      "execution_count": 101,
      "outputs": [
        {
          "output_type": "stream",
          "name": "stderr",
          "text": [
            "WARNING:cassandra.cluster:Downgrading core protocol version from 66 to 65 for ed2ae102-a8ad-483a-b5ec-1dea55c81edd-us-east-2.db.astra.datastax.com:29042:00958fd0-af98-391f-9f51-7e3fe763da5c. To avoid this, it is best practice to explicitly set Cluster(protocol_version) to the version supported by your cluster. http://datastax.github.io/python-driver/api/cassandra/cluster.html#cassandra.cluster.Cluster.protocol_version\n",
            "WARNING:cassandra.cluster:Downgrading core protocol version from 65 to 5 for ed2ae102-a8ad-483a-b5ec-1dea55c81edd-us-east-2.db.astra.datastax.com:29042:00958fd0-af98-391f-9f51-7e3fe763da5c. To avoid this, it is best practice to explicitly set Cluster(protocol_version) to the version supported by your cluster. http://datastax.github.io/python-driver/api/cassandra/cluster.html#cassandra.cluster.Cluster.protocol_version\n",
            "WARNING:cassandra.cluster:Downgrading core protocol version from 5 to 4 for ed2ae102-a8ad-483a-b5ec-1dea55c81edd-us-east-2.db.astra.datastax.com:29042:00958fd0-af98-391f-9f51-7e3fe763da5c. To avoid this, it is best practice to explicitly set Cluster(protocol_version) to the version supported by your cluster. http://datastax.github.io/python-driver/api/cassandra/cluster.html#cassandra.cluster.Cluster.protocol_version\n"
          ]
        },
        {
          "output_type": "stream",
          "name": "stdout",
          "text": [
            "Silver Sales Table:\n",
            "                                      id  date product_name   region  \\\n",
            "0   4d8b9890-406e-493a-98cf-63cf73230f15  None     Keyboard  Unknown   \n",
            "1   54a75e61-ea9e-4e5c-b96b-06646bce5c72  None      Monitor  Unknown   \n",
            "2   dc9e1231-0da2-48c5-a2bb-98e4a922d02b  None       Laptop  Unknown   \n",
            "3   559ad5e0-286f-4cdd-a821-06409e9f7fd5  None        Phone  Unknown   \n",
            "4   0a910a13-a392-4680-bea2-77dda196488d  None       Tablet  Unknown   \n",
            "5   7cfe536c-291e-4db0-acb6-cec85e6a14e1  None     Keyboard  Unknown   \n",
            "6   4ed0d5a1-90b9-4f71-9fab-bb67e6d2a46e  None     Keyboard  Unknown   \n",
            "7   b4c1be69-fd35-4632-afff-7b4d977ab072  None       Laptop  Unknown   \n",
            "8   eb4e6a13-7ec7-48fb-b215-fbd805b312f6  None      Monitor  Unknown   \n",
            "9   0cabca16-1625-4617-b4d5-88c09a589e36  None       Tablet  Unknown   \n",
            "10  11ceaf2b-9a3e-4ade-b36c-892bb5c087eb  None       Laptop  Unknown   \n",
            "11  cb9d4e14-a47c-4187-a500-8025a6b8ac98  None        Phone  Unknown   \n",
            "12  ebb659d8-04aa-4634-a715-83ef4aee8368  None        Phone  Unknown   \n",
            "13  eaeef92b-3cea-429b-8388-d6eaf659bdd7  None       Tablet  Unknown   \n",
            "14  679fbb07-c576-4a61-817d-e810e1ea8845  None       Laptop  Unknown   \n",
            "15  d5b18d95-834f-4b2e-97bc-8cf0d4b9183f  None        Phone  Unknown   \n",
            "16  b930a1c0-51e7-4f14-abf1-2d02881346c8  None      Monitor  Unknown   \n",
            "17  f62d1e1a-40b6-4c71-b0ed-f1e6581b642e  None       Laptop  Unknown   \n",
            "18  cf5416aa-bd89-4c5d-b58b-833373b87aa0  None        Phone  Unknown   \n",
            "\n",
            "    sales_amount  \n",
            "0          100.0  \n",
            "1          300.0  \n",
            "2         1200.0  \n",
            "3          800.0  \n",
            "4          600.0  \n",
            "5          100.0  \n",
            "6          100.0  \n",
            "7         1200.0  \n",
            "8          300.0  \n",
            "9          600.0  \n",
            "10        1200.0  \n",
            "11         800.0  \n",
            "12         800.0  \n",
            "13         600.0  \n",
            "14        1200.0  \n",
            "15         800.0  \n",
            "16         300.0  \n",
            "17        1200.0  \n",
            "18         800.0  \n"
          ]
        }
      ]
    },
    {
      "cell_type": "code",
      "source": [
        "# Aggregation Functions\n",
        "def aggregate_sales_by_region(df):\n",
        "    return df.groupby('region')['sales_amount'].sum().reset_index()\n",
        "\n",
        "def aggregate_sales_by_product(df):\n",
        "    return df.groupby('product_name')['sales_amount'].sum().reset_index()\n",
        "if not data:\n",
        "    print(\"The Silver Sales table is empty. Cannot create Gold tables.\")\n",
        "else:\n",
        "    # Aggregations\n",
        "    sales_by_region = aggregate_sales_by_region(df)\n",
        "    sales_by_product = aggregate_sales_by_product(df)\n",
        "    sales_trends = aggregate_sales_trends(df)\n",
        "\n",
        "    session.execute(\"\"\"\n",
        "    CREATE TABLE IF NOT EXISTS gold_sales_by_region (\n",
        "        region TEXT PRIMARY KEY,\n",
        "        total_sales DOUBLE\n",
        "    );\n",
        "    \"\"\")\n",
        "    session.execute(\"\"\"\n",
        "    CREATE TABLE IF NOT EXISTS gold_sales_by_product (\n",
        "        product_name TEXT PRIMARY KEY,\n",
        "        total_sales DOUBLE\n",
        "    );\n",
        "    \"\"\")\n",
        "    session.execute(\"\"\"\n",
        "    CREATE TABLE IF NOT EXISTS gold_sales_trends (\n",
        "        date DATE PRIMARY KEY,\n",
        "        total_sales DOUBLE\n",
        "    );\n",
        "    \"\"\")\n",
        "\n",
        "    # Insert Data into Gold tables\n",
        "    for _, row in sales_by_region.iterrows():\n",
        "        session.execute(\"\"\"\n",
        "        INSERT INTO gold_sales_by_region (region, total_sales)\n",
        "        VALUES (%s, %s)\n",
        "        \"\"\", (row['region'], row['sales_amount']))\n",
        "\n",
        "    for _, row in sales_by_product.iterrows():\n",
        "        session.execute(\"\"\"\n",
        "        INSERT INTO gold_sales_by_product (product_name, total_sales)\n",
        "        VALUES (%s, %s)\n",
        "        \"\"\", (row['product_name'], row['sales_amount']))\n",
        "\n",
        "    for a,row in sales_trends.iterrows():\n",
        "        session.execute(\"\"\"\n",
        "        INSERT INTO gold_sales_trends (date, total_sales)\n",
        "        VALUES (%s, %s)\n",
        "        \"\"\", (row['date'], row['sales_amount']))\n",
        "\n",
        "    print(\"Gold tables created and populated successfully!\")\n"
      ],
      "metadata": {
        "colab": {
          "base_uri": "https://localhost:8080/"
        },
        "id": "n-ZGVBgAsYUv",
        "outputId": "58e1c9ca-3ef9-4fcc-df22-c04ce3ac703f"
      },
      "execution_count": 108,
      "outputs": [
        {
          "output_type": "stream",
          "name": "stdout",
          "text": [
            "Gold tables created and populated successfully!\n"
          ]
        }
      ]
    },
    {
      "cell_type": "code",
      "source": [
        "# Query and Print Gold Sales by Region\n",
        "print(\"Gold Sales by Region:\")\n",
        "rows = session.execute(\"SELECT * FROM gold_sales_by_region;\")\n",
        "sales_by_region = [dict(row._asdict()) for row in rows]\n",
        "if sales_by_region:\n",
        "    df_region = pd.DataFrame(sales_by_region)\n",
        "    print(df_region)\n",
        "else:\n",
        "    print(\"No data available in gold_sales_by_region.\")\n",
        "\n",
        "# Query and Print Gold Sales by Product\n",
        "print(\"\\nGold Sales by Product:\")\n",
        "rows = session.execute(\"SELECT * FROM gold_sales_by_product;\")\n",
        "sales_by_product = [dict(row._asdict()) for row in rows]\n",
        "if sales_by_product:\n",
        "    df_product = pd.DataFrame(sales_by_product)\n",
        "    print(df_product)\n",
        "else:\n",
        "    print(\"No data available in gold_sales_by_product.\")\n",
        "\n",
        "\n"
      ],
      "metadata": {
        "colab": {
          "base_uri": "https://localhost:8080/"
        },
        "id": "AkIolk1m07Cn",
        "outputId": "191bb49e-965e-4b1e-df8f-6bc9f2a64906"
      },
      "execution_count": 112,
      "outputs": [
        {
          "output_type": "stream",
          "name": "stdout",
          "text": [
            "Gold Sales by Region:\n",
            "    region  total_sales\n",
            "0  Unknown      13000.0\n",
            "\n",
            "Gold Sales by Product:\n",
            "  product_name  total_sales\n",
            "0        Phone       4000.0\n",
            "1       Laptop       6000.0\n",
            "2      Monitor        900.0\n",
            "3     Keyboard        300.0\n",
            "4       Tablet       1800.0\n"
          ]
        }
      ]
    },
    {
      "cell_type": "code",
      "source": [],
      "metadata": {
        "id": "ATgOHdQutrpa"
      },
      "execution_count": null,
      "outputs": []
    }
  ]
}